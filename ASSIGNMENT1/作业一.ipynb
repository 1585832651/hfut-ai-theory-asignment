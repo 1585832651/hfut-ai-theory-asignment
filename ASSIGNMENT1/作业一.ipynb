{
 "cells": [
  {
   "cell_type": "markdown",
   "metadata": {},
   "source": [
    "#这是我人工智能原理的作业一，也是我第一次尝试编写稍微大一点的Python程序。\n",
    "#首先我们进行数据集和包的导入，这个操作我直接cv过好多次但是真正自己写还是第一次"
   ]
  },
  {
   "cell_type": "code",
   "execution_count": 2,
   "metadata": {},
   "outputs": [],
   "source": [
    "\n",
    "import matplotlib.pyplot as plt\n",
    "import numpy as np \n",
    "import load_data\n",
    "from linearpredict import linear_predictor\n",
    "Train_dir=\"train.txt\"#相对路径\n",
    "Test_dir=\"test.txt\"\n",
    "try:\n",
    "    del X_train\n",
    "    del Y_train\n",
    "    \n",
    "    print(\"数据已经加载过\")\n",
    "except:\n",
    "    pass\n",
    "\n",
    "X_train,Y_train=load_data.load_dataset_train(Train_dir)\n",
    "X_test=load_data.load_dataset_test(Test_dir)"
   ]
  },
  {
   "cell_type": "markdown",
   "metadata": {},
   "source": [
    "现在我们导入了数据集，\n",
    "并且把X,Y分别储存在了X_train，Y_train中，以numpy数组的形式储存，至于为什么不用普通数组而要用numpy，原因是numpy可以直接对整个数组进行处理，比笨办法快不止一倍\n",
    "接下来我们试着可视化一下这个散点图\n",
    "这么简单的数据不需要预处理，所以就跳过"
   ]
  },
  {
   "cell_type": "code",
   "execution_count": null,
   "metadata": {},
   "outputs": [],
   "source": []
  },
  {
   "cell_type": "code",
   "execution_count": 3,
   "metadata": {},
   "outputs": [
    {
     "data": {
      "text/plain": [
       "[]"
      ]
     },
     "execution_count": 3,
     "metadata": {},
     "output_type": "execute_result"
    },
    {
     "data": {
      "image/png": "[encoded data removed]",
      "text/plain": [
       "<Figure size 432x288 with 1 Axes>"
      ]
     },
     "metadata": {
      "needs_background": "light"
     },
     "output_type": "display_data"
    }
   ],
   "source": [
    "plt.scatter(X_train,Y_train,marker=\".\")\n",
    "plt.plot()"
   ]
  },
  {
   "cell_type": "markdown",
   "metadata": {},
   "source": [
    "\n",
    "接下来我们开始写这个作业的核心部分：线性拟合器，linearpredict.py：\n",
    "我们定义一个拟合器类，然后把W作为它的成员变量,还有train，predict，loss作为他的成员方法。\n",
    "然后我们还要对X数据做一个有关偏置向量处理的技巧，把所有的x全都竖着加一个维度，变成（2，1）的矩阵\n"
   ]
  },
  {
   "cell_type": "code",
   "execution_count": 4,
   "metadata": {},
   "outputs": [
    {
     "name": "stdout",
     "output_type": "stream",
     "text": [
      "before: (300,)\n",
      "after: (300, 2)\n"
     ]
    }
   ],
   "source": [
    "#请不要反复执行这个代码块，不然会显示错误，如果想再执行一遍请重启ipynb文件\n",
    "print(\"before:\",X_train.shape)\n",
    "try:\n",
    "    X_size=X_train.shape[0]\n",
    "    X_train=np.reshape(X_train,(X_size,1))\n",
    "    Y_train=np.reshape(Y_train,(X_size,1))\n",
    "    X_train=np.hstack([X_train,np.ones((X_train.shape[0],1))])\n",
    "    print(\"after:\",X_train.shape)\n",
    "    \n",
    "except:\n",
    "    print(\"转换已经完成\",X_train.shape)"
   ]
  },
  {
   "cell_type": "code",
   "execution_count": 13,
   "metadata": {},
   "outputs": [
    {
     "name": "stdout",
     "output_type": "stream",
     "text": [
      "before: (200,)\n",
      "after: (200, 2)\n"
     ]
    }
   ],
   "source": [
    "#请不要反复执行这个代码块，不然会显示错误，如果想再执行一遍请重启ipynb文件\n",
    "print(\"before:\",X_test.shape)\n",
    "try:\n",
    "    X_size=X_test.shape[0]\n",
    "    X_test=np.reshape(X_test,(X_size,1))\n",
    "    X_test=np.hstack([X_test,np.ones((X_test.shape[0],1))])\n",
    "    print(\"after:\",X_test.shape)\n",
    "    \n",
    "except:\n",
    "    print(\"转换已经完成\",X_test.shape)"
   ]
  },
  {
   "cell_type": "markdown",
   "metadata": {},
   "source": [
    "如果我没算错的话，微分公式应该是这样的\n",
    "\\begin{array}{c}\n",
    "\\frac{1}{2\\sqrt{\\frac{2\\sum (Y-Wx) (x)}{N}}  } \n",
    "\\end{array}{\\Huge } \n",
    "\n",
    "在loss函数以及梯度下降的算法写好后，这个程序就基本完成了\n",
    "现在我们来创建一个实例来测试一下"
   ]
  },
  {
   "cell_type": "code",
   "execution_count": 14,
   "metadata": {},
   "outputs": [],
   "source": [
    "predictor=linear_predictor()\n"
   ]
  },
  {
   "cell_type": "markdown",
   "metadata": {},
   "source": [
    "经过长达两小时的奇奇妙妙的debug过程，大致可以确定现在程序没有逻辑问题了，但是由于我对损失函数求导还不是太熟悉\n",
    "所以还是得接着试"
   ]
  },
  {
   "cell_type": "markdown",
   "metadata": {},
   "source": [
    "做到这里发现虽然大多数情况下已经可以生成较为符合的直线了，但是有个别情况还是会出现翻车，我把这归结于数据集太少，于是打算将数据进行复制变成一个大数据集，然后进行小批量数据训练，同时也可以减轻异常数据的影响,我并不太清楚这个方式是不是合理的，在网上查好像也没有查到有谁用我这个无厘头方法。。。\n",
    "这时我的小批量训练方法就派上用场了，看来我还是有先见之明"
   ]
  },
  {
   "cell_type": "code",
   "execution_count": 15,
   "metadata": {},
   "outputs": [
    {
     "name": "stdout",
     "output_type": "stream",
     "text": [
      "(300, 2)\n",
      "(3000, 2)\n",
      "(3000, 1)\n",
      "[[0.94083926 1.50072236]]\n",
      "均方根误差： 0.7711285684215303\n"
     ]
    }
   ],
   "source": [
    "print(X_train.shape)\n",
    "X_train=np.repeat(X_train,10,axis=0)\n",
    "print(X_train.shape)\n",
    "Y_train=np.repeat(Y_train,10,axis=0)\n",
    "print(Y_train.shape)\n",
    "loss_history=predictor.train(X_train,Y_train)\n",
    "print(\"均方根误差：\",predictor.jundgement(X_train,Y_train))\n"
   ]
  },
  {
   "cell_type": "code",
   "execution_count": 16,
   "metadata": {},
   "outputs": [
    {
     "name": "stdout",
     "output_type": "stream",
     "text": [
      "均方根误差： 0.7711285684215303\n"
     ]
    },
    {
     "data": {
      "image/png": "[encoded data removed]",
      "text/plain": [
       "<Figure size 432x288 with 1 Axes>"
      ]
     },
     "metadata": {
      "needs_background": "light"
     },
     "output_type": "display_data"
    }
   ],
   "source": [
    "\n",
    "plt.scatter(X_train[:,0],predictor.predict(X_train))\n",
    "plt.plot()\n",
    "loss=predictor.jundgement(X_train,Y_train)\n",
    "print(\"均方根误差：\",loss)"
   ]
  },
  {
   "cell_type": "markdown",
   "metadata": {},
   "source": [
    "经过多次观察我发现结果的翻车与否与W生成的随机数值有很大关系，如果W生成的就很大或者很小，那么结果就会偏的离谱，\n",
    "如果W一开始就接近一，那么结果就会很好。分析得出是学习率太小了，于是就往上猛调两个数量级，同时把批量数据数量也调小一点\n",
    "结果就是：\n",
    "perfect!\n",
    "那么接下来我们就用训练好的数据去进行测试集test"
   ]
  },
  {
   "cell_type": "code",
   "execution_count": 17,
   "metadata": {},
   "outputs": [
    {
     "data": {
      "text/plain": [
       "[]"
      ]
     },
     "execution_count": 17,
     "metadata": {},
     "output_type": "execute_result"
    },
    {
     "data": {
      "image/png": "[encoded data removed]",
      "text/plain": [
       "<Figure size 432x288 with 1 Axes>"
      ]
     },
     "metadata": {
      "needs_background": "light"
     },
     "output_type": "display_data"
    }
   ],
   "source": [
    "y_pred=predictor.predict(X_test)\n",
    "plt.scatter(X_test[:,0],y_pred)\n",
    "plt.plot()\n"
   ]
  },
  {
   "cell_type": "markdown",
   "metadata": {},
   "source": [
    "结果非常理想，然后最后一步就是把数据导入txt打把邮件发给助教，然后去写实验报告\n"
   ]
  },
  {
   "cell_type": "code",
   "execution_count": 18,
   "metadata": {},
   "outputs": [],
   "source": [
    "\n",
    "np.savetxt(\"预测结果.txt\",y_pred)"
   ]
  }
 ],
 "metadata": {
  "kernelspec": {
   "display_name": "Python 3.9.12 ('base')",
   "language": "python",
   "name": "python3"
  },
  "language_info": {
   "codemirror_mode": {
    "name": "ipython",
    "version": 3
   },
   "file_extension": ".py",
   "mimetype": "text/x-python",
   "name": "python",
   "nbconvert_exporter": "python",
   "pygments_lexer": "ipython3",
   "version": "3.9.12"
  },
  "orig_nbformat": 4,
  "vscode": {
   "interpreter": {
    "hash": "71568ce01c9e6cc120890be5b6d201b6cade196f3ca1a0ecd03de4560c81feb6"
   }
  }
 },
 "nbformat": 4,
 "nbformat_minor": 2
}
